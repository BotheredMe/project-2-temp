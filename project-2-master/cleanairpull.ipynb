{
 "cells": [
  {
   "cell_type": "code",
   "execution_count": 54,
   "metadata": {},
   "outputs": [],
   "source": [
    "# Dependencies\n",
    "import requests\n",
    "import json\n",
    "import pprint as pp"
   ]
  },
  {
   "cell_type": "code",
   "execution_count": 49,
   "metadata": {},
   "outputs": [],
   "source": [
    "\n",
    "key = \"c728972f-bcba-462d-a2b3-fe518c8cc05c\"\n",
    "state = \"Arizona\"\n",
    "country = \"USA\"\n",
    "city = 'Phoenix'\n",
    "url = 'http://api.airvisual.com/v2/city?city=Phoenix&state=Arizona&country=USA&key={{YOUR_API_KEY}}'"
   ]
  },
  {
   "cell_type": "code",
   "execution_count": 50,
   "metadata": {},
   "outputs": [],
   "source": [
    "url =url.replace('{{YOUR_API_KEY}}',key)\n",
    "url=url.replace('{{CITY_NAME}}',city)\n",
    "url=url.replace('{{STATE_NAME}}',state)\n",
    "url=url.replace('{{COUNTRY_NAME}}',state)\n"
   ]
  },
  {
   "cell_type": "code",
   "execution_count": 57,
   "metadata": {
    "scrolled": true
   },
   "outputs": [],
   "source": [
    "test = requests.get(url).json()"
   ]
  },
  {
   "cell_type": "code",
   "execution_count": 58,
   "metadata": {
    "scrolled": true
   },
   "outputs": [
    {
     "name": "stdout",
     "output_type": "stream",
     "text": [
      "{'data': {'city': 'Phoenix',\n",
      "          'country': 'USA',\n",
      "          'current': {'pollution': {'aqicn': 23,\n",
      "                                    'aqius': 30,\n",
      "                                    'maincn': 'o3',\n",
      "                                    'mainus': 'o3',\n",
      "                                    'ts': '2020-04-07T04:00:00.000Z'},\n",
      "                      'weather': {'hu': 16,\n",
      "                                  'ic': '01n',\n",
      "                                  'pr': 1013,\n",
      "                                  'tp': 22,\n",
      "                                  'ts': '2020-04-07T03:00:00.000Z',\n",
      "                                  'wd': 250,\n",
      "                                  'ws': 5.7}},\n",
      "          'location': {'coordinates': [-112.066299, 33.560299],\n",
      "                       'type': 'Point'},\n",
      "          'state': 'Arizona'},\n",
      " 'status': 'success'}\n"
     ]
    }
   ],
   "source": [
    "pp.pprint(test)"
   ]
  },
  {
   "cell_type": "code",
   "execution_count": null,
   "metadata": {},
   "outputs": [],
   "source": []
  }
 ],
 "metadata": {
  "kernelspec": {
   "display_name": "Python 3",
   "language": "python",
   "name": "python3"
  },
  "language_info": {
   "codemirror_mode": {
    "name": "ipython",
    "version": 3
   },
   "file_extension": ".py",
   "mimetype": "text/x-python",
   "name": "python",
   "nbconvert_exporter": "python",
   "pygments_lexer": "ipython3",
   "version": "3.7.6"
  }
 },
 "nbformat": 4,
 "nbformat_minor": 4
}
